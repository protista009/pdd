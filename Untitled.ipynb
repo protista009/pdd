{
 "cells": [
  {
   "cell_type": "markdown",
   "id": "947d9f31-5ec8-4e10-b261-7669b4dcb86c",
   "metadata": {},
   "source": [
    "importing libraries\n"
   ]
  },
  {
   "cell_type": "code",
   "execution_count": null,
   "id": "d3c354b3-8867-45c8-9de4-3ca7e0823f1d",
   "metadata": {},
   "outputs": [],
   "source": [
    "import os\n",
    "import shutil\n",
    "import random\n",
    "\n",
    "# Define paths\n",
    "source_dir = 'E:/PlantVillage'\n",
    "output_dir = 'E:/DataSet'\n",
    "train_dir = os.path.join(output_dir, 'train')  # Renamed 'test' to 'train'\n",
    "val_dir = os.path.join(output_dir, 'val')\n",
    "\n",
    "# Create output directories\n",
    "for dir in [train_dir, val_dir]:\n",
    "    os.makedirs(os.path.join(dir, 'healthy'), exist_ok=True)\n",
    "    os.makedirs(os.path.join(dir, 'unhealthy'), exist_ok=True)\n",
    "\n",
    "# Function to copy files safely\n",
    "def copy_files(files, src_dir, dst_dir):\n",
    "    for f in files:\n",
    "        try:\n",
    "            src_path = os.path.join(src_dir, f)\n",
    "            dst_path = os.path.join(dst_dir, f)\n",
    "\n",
    "            # Ensure unique filenames by adding a suffix if needed\n",
    "            base, ext = os.path.splitext(f)\n",
    "            counter = 1\n",
    "            while os.path.exists(dst_path):  \n",
    "                dst_path = os.path.join(dst_dir, f\"{base}_{counter}{ext}\")\n",
    "                counter += 1\n",
    "\n",
    "            shutil.copy(src_path, dst_path)\n",
    "        except Exception as e:\n",
    "            print(f\"Error copying {f}: {str(e)}\")\n",
    "\n",
    "# Collect and categorize files\n",
    "all_files = []\n",
    "for class_folder in os.listdir(source_dir):\n",
    "    class_path = os.path.join(source_dir, class_folder)\n",
    "    if os.path.isdir(class_path):\n",
    "        is_healthy = 'healthy' in class_folder.lower()\n",
    "        category = 'healthy' if is_healthy else 'unhealthy'\n",
    "        \n",
    "        files = [f for f in os.listdir(class_path) if os.path.isfile(os.path.join(class_path, f))]\n",
    "        for file in files:\n",
    "            all_files.append((file, class_path, category))\n",
    "\n",
    "# Shuffle and split the dataset\n",
    "random.shuffle(all_files)\n",
    "train_split = int(len(all_files) * 0.85)  # 85% Train\n",
    "train_files = all_files[:train_split]\n",
    "val_files = all_files[train_split:]       # 15% Validation\n",
    "\n",
    "# Copy files to train and validation directories\n",
    "try:\n",
    "    for file_set, target_dir in [(train_files, train_dir), (val_files, val_dir)]:\n",
    "        for file, src_dir, category in file_set:\n",
    "            dst_dir = os.path.join(target_dir, category)\n",
    "            copy_files([file], src_dir, dst_dir)\n",
    "    print(\"✅ Dataset organization and splitting completed successfully!\")\n",
    "except KeyboardInterrupt:\n",
    "    print(\"\\n❌ Operation interrupted by user. Partial results may have been saved.\")\n",
    "except Exception as e:\n",
    "    print(f\"❌ An error occurred: {str(e)}\")\n"
   ]
  },
  {
   "cell_type": "code",
   "execution_count": 4,
   "id": "9f880a13-da1b-46ca-8052-80fc594fd49a",
   "metadata": {},
   "outputs": [
    {
     "name": "stdout",
     "output_type": "stream",
     "text": [
      "Unhealthy dataset with 7100 images distributed equally among 15 folders created in E:/Dataset2\n"
     ]
    }
   ],
   "source": [
    "import os\n",
    "import shutil\n",
    "import random\n",
    "\n",
    "def distribute_unhealthy_images(dataset_path, output_path, total_unhealthy=7100):\n",
    "    unhealthy_folders = [f for f in os.listdir(dataset_path) if os.path.isdir(os.path.join(dataset_path, f)) and f != \"healthy\"]\n",
    "    \n",
    "    if len(unhealthy_folders) != 15:\n",
    "        print(f\"Warning: Expected 15 disease folders, but found {len(unhealthy_folders)}\")\n",
    "    \n",
    "    os.makedirs(output_path, exist_ok=True)\n",
    "    unhealthy_output = os.path.join(output_path, \"unhealthy\")\n",
    "    os.makedirs(unhealthy_output, exist_ok=True)\n",
    "    \n",
    "    per_folder_limit = total_unhealthy // len(unhealthy_folders)\n",
    "    selected_unhealthy = []\n",
    "    \n",
    "    for folder in unhealthy_folders:\n",
    "        folder_path = os.path.join(dataset_path, folder)\n",
    "        images = os.listdir(folder_path)\n",
    "        selected_images = random.sample(images, min(per_folder_limit, len(images)))\n",
    "        selected_unhealthy.extend([(folder, img) for img in selected_images])\n",
    "    \n",
    "    for folder, img in selected_unhealthy:\n",
    "        src = os.path.join(dataset_path, folder, img)\n",
    "        dest = os.path.join(unhealthy_output, img)\n",
    "        shutil.copy(src, dest)\n",
    "    \n",
    "    print(f\"Unhealthy dataset with {total_unhealthy} images distributed equally among 15 folders created in {output_path}\")\n",
    "\n",
    "# Example usage\n",
    "dataset_path = \"E:/PlantVillage\"  # Change this to the actual dataset location\n",
    "output_path = \"E:/Dataset2\"  # Change this to where you want the unhealthy dataset\n",
    "distribute_unhealthy_images(dataset_path, output_path)\n"
   ]
  },
  {
   "cell_type": "code",
   "execution_count": 6,
   "id": "8de81f0b-be70-4dc7-9a74-5a3760ca62a2",
   "metadata": {},
   "outputs": [
    {
     "name": "stdout",
     "output_type": "stream",
     "text": [
      "Moved 20% of training data to validation set at E:/DataSet2/validd\n"
     ]
    }
   ],
   "source": [
    "import os\n",
    "import shutil\n",
    "import random\n",
    "\n",
    "def move_validation_data(training_path, validation_path, validation_split=0.2):\n",
    "    os.makedirs(validation_path, exist_ok=True)\n",
    "    \n",
    "    for category in [\"healthy\", \"unhealthy\"]:\n",
    "        train_category_path = os.path.join(training_path, category)\n",
    "        val_category_path = os.path.join(validation_path, category)\n",
    "        \n",
    "        if not os.path.isdir(train_category_path):\n",
    "            continue\n",
    "        \n",
    "        os.makedirs(val_category_path, exist_ok=True)\n",
    "        \n",
    "        images = os.listdir(train_category_path)\n",
    "        random.shuffle(images)\n",
    "        \n",
    "        num_validation = int(len(images) * validation_split)\n",
    "        validation_images = images[:num_validation]\n",
    "        \n",
    "        for img in validation_images:\n",
    "            src = os.path.join(train_category_path, img)\n",
    "            dest = os.path.join(val_category_path, img)\n",
    "            shutil.move(src, dest)\n",
    "    \n",
    "    print(f\"Moved {int(validation_split * 100)}% of training data to validation set at {validation_path}\")\n",
    "\n",
    "# Example usage\n",
    "training_path = \"E:/DataSet2/trainn\"  # Change to actual training dataset location\n",
    "validation_path = \"E:/DataSet2/validd\"  # Change to actual validation dataset location\n",
    "move_validation_data(training_path, validation_path)\n"
   ]
  },
  {
   "cell_type": "code",
   "execution_count": null,
   "id": "5f410091-683a-4736-bc37-1859c89bc5d9",
   "metadata": {},
   "outputs": [],
   "source": []
  }
 ],
 "metadata": {
  "kernelspec": {
   "display_name": "Python (TensorFlow)",
   "language": "python",
   "name": "tensorflow"
  },
  "language_info": {
   "codemirror_mode": {
    "name": "ipython",
    "version": 3
   },
   "file_extension": ".py",
   "mimetype": "text/x-python",
   "name": "python",
   "nbconvert_exporter": "python",
   "pygments_lexer": "ipython3",
   "version": "3.12.3"
  }
 },
 "nbformat": 4,
 "nbformat_minor": 5
}
