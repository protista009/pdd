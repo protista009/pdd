{
 "cells": [
  {
   "cell_type": "markdown",
   "id": "947d9f31-5ec8-4e10-b261-7669b4dcb86c",
   "metadata": {},
   "source": [
    "importing libraries\n"
   ]
  },
  {
   "cell_type": "code",
   "execution_count": 1,
   "id": "d3c354b3-8867-45c8-9de4-3ca7e0823f1d",
   "metadata": {},
   "outputs": [
    {
     "ename": "FileNotFoundError",
     "evalue": "[WinError 3] The system cannot find the path specified: 'E:/PlantVillage'",
     "output_type": "error",
     "traceback": [
      "\u001b[1;31m---------------------------------------------------------------------------\u001b[0m",
      "\u001b[1;31mFileNotFoundError\u001b[0m                         Traceback (most recent call last)",
      "Cell \u001b[1;32mIn[1], line 36\u001b[0m\n\u001b[0;32m     34\u001b[0m \u001b[38;5;66;03m# Collect and categorize files\u001b[39;00m\n\u001b[0;32m     35\u001b[0m all_files \u001b[38;5;241m=\u001b[39m []\n\u001b[1;32m---> 36\u001b[0m \u001b[38;5;28;01mfor\u001b[39;00m class_folder \u001b[38;5;129;01min\u001b[39;00m os\u001b[38;5;241m.\u001b[39mlistdir(source_dir):\n\u001b[0;32m     37\u001b[0m     class_path \u001b[38;5;241m=\u001b[39m os\u001b[38;5;241m.\u001b[39mpath\u001b[38;5;241m.\u001b[39mjoin(source_dir, class_folder)\n\u001b[0;32m     38\u001b[0m     \u001b[38;5;28;01mif\u001b[39;00m os\u001b[38;5;241m.\u001b[39mpath\u001b[38;5;241m.\u001b[39misdir(class_path):\n",
      "\u001b[1;31mFileNotFoundError\u001b[0m: [WinError 3] The system cannot find the path specified: 'E:/PlantVillage'"
     ]
    }
   ],
   "source": [
    "import os\n",
    "import shutil\n",
    "import random\n",
    "\n",
    "# Define paths\n",
    "source_dir = 'E:/PlantVillage'\n",
    "output_dir = 'E:/DataSet'\n",
    "train_dir = os.path.join(output_dir, 'train')  # Renamed 'test' to 'train'\n",
    "val_dir = os.path.join(output_dir, 'val')\n",
    "\n",
    "# Create output directories\n",
    "for dir in [train_dir, val_dir]:\n",
    "    os.makedirs(os.path.join(dir, 'healthy'), exist_ok=True)\n",
    "    os.makedirs(os.path.join(dir, 'unhealthy'), exist_ok=True)\n",
    "\n",
    "# Function to copy files safely\n",
    "def copy_files(files, src_dir, dst_dir):\n",
    "    for f in files:\n",
    "        try:\n",
    "            src_path = os.path.join(src_dir, f)\n",
    "            dst_path = os.path.join(dst_dir, f)\n",
    "\n",
    "            # Ensure unique filenames by adding a suffix if needed\n",
    "            base, ext = os.path.splitext(f)\n",
    "            counter = 1\n",
    "            while os.path.exists(dst_path):  \n",
    "                dst_path = os.path.join(dst_dir, f\"{base}_{counter}{ext}\")\n",
    "                counter += 1\n",
    "\n",
    "            shutil.copy(src_path, dst_path)\n",
    "        except Exception as e:\n",
    "            print(f\"Error copying {f}: {str(e)}\")\n",
    "\n",
    "# Collect and categorize files\n",
    "all_files = []\n",
    "for class_folder in os.listdir(source_dir):\n",
    "    class_path = os.path.join(source_dir, class_folder)\n",
    "    if os.path.isdir(class_path):\n",
    "        is_healthy = 'healthy' in class_folder.lower()\n",
    "        category = 'healthy' if is_healthy else 'unhealthy'\n",
    "        \n",
    "        files = [f for f in os.listdir(class_path) if os.path.isfile(os.path.join(class_path, f))]\n",
    "        for file in files:\n",
    "            all_files.append((file, class_path, category))\n",
    "\n",
    "# Shuffle and split the dataset\n",
    "random.shuffle(all_files)\n",
    "train_split = int(len(all_files) * 0.85)  # 85% Train\n",
    "train_files = all_files[:train_split]\n",
    "val_files = all_files[train_split:]       # 15% Validation\n",
    "\n",
    "# Copy files to train and validation directories\n",
    "try:\n",
    "    for file_set, target_dir in [(train_files, train_dir), (val_files, val_dir)]:\n",
    "        for file, src_dir, category in file_set:\n",
    "            dst_dir = os.path.join(target_dir, category)\n",
    "            copy_files([file], src_dir, dst_dir)\n",
    "    print(\"✅ Dataset organization and splitting completed successfully!\")\n",
    "except KeyboardInterrupt:\n",
    "    print(\"\\n❌ Operation interrupted by user. Partial results may have been saved.\")\n",
    "except Exception as e:\n",
    "    print(f\"❌ An error occurred: {str(e)}\")\n"
   ]
  },
  {
   "cell_type": "code",
   "execution_count": null,
   "id": "9f880a13-da1b-46ca-8052-80fc594fd49a",
   "metadata": {},
   "outputs": [],
   "source": [
    "import os\n",
    "import shutil\n",
    "import random\n",
    "\n",
    "def distribute_unhealthy_images(dataset_path, output_path, total_unhealthy=7100):\n",
    "    unhealthy_folders = [f for f in os.listdir(dataset_path) if os.path.isdir(os.path.join(dataset_path, f)) and f != \"healthy\"]\n",
    "    \n",
    "    if len(unhealthy_folders) != 15:\n",
    "        print(f\"Warning: Expected 15 disease folders, but found {len(unhealthy_folders)}\")\n",
    "    \n",
    "    os.makedirs(output_path, exist_ok=True)\n",
    "    unhealthy_output = os.path.join(output_path, \"unhealthy\")\n",
    "    os.makedirs(unhealthy_output, exist_ok=True)\n",
    "    \n",
    "    per_folder_limit = total_unhealthy // len(unhealthy_folders)\n",
    "    selected_unhealthy = []\n",
    "    \n",
    "    for folder in unhealthy_folders:\n",
    "        folder_path = os.path.join(dataset_path, folder)\n",
    "        images = os.listdir(folder_path)\n",
    "        selected_images = random.sample(images, min(per_folder_limit, len(images)))\n",
    "        selected_unhealthy.extend([(folder, img) for img in selected_images])\n",
    "    \n",
    "    for folder, img in selected_unhealthy:\n",
    "        src = os.path.join(dataset_path, folder, img)\n",
    "        dest = os.path.join(unhealthy_output, img)\n",
    "        shutil.copy(src, dest)\n",
    "    \n",
    "    print(f\"Unhealthy dataset with {total_unhealthy} images distributed equally among 15 folders created in {output_path}\")\n",
    "\n",
    "# Example usage\n",
    "dataset_path = \"E:/PlantVillage\"  # Change this to the actual dataset location\n",
    "output_path = \"E:/Dataset2\"  # Change this to where you want the unhealthy dataset\n",
    "distribute_unhealthy_images(dataset_path, output_path)\n"
   ]
  },
  {
   "cell_type": "code",
   "execution_count": null,
   "id": "8de81f0b-be70-4dc7-9a74-5a3760ca62a2",
   "metadata": {},
   "outputs": [],
   "source": [
    "import os\n",
    "import shutil\n",
    "import random\n",
    "\n",
    "def move_validation_data(training_path, validation_path, validation_split=0.2):\n",
    "    os.makedirs(validation_path, exist_ok=True)\n",
    "    \n",
    "    for category in [\"healthy\", \"unhealthy\"]:\n",
    "        train_category_path = os.path.join(training_path, category)\n",
    "        val_category_path = os.path.join(validation_path, category)\n",
    "        \n",
    "        if not os.path.isdir(train_category_path):\n",
    "            continue\n",
    "        \n",
    "        os.makedirs(val_category_path, exist_ok=True)\n",
    "        \n",
    "        images = os.listdir(train_category_path)\n",
    "        random.shuffle(images)\n",
    "        \n",
    "        num_validation = int(len(images) * validation_split)\n",
    "        validation_images = images[:num_validation]\n",
    "        \n",
    "        for img in validation_images:\n",
    "            src = os.path.join(train_category_path, img)\n",
    "            dest = os.path.join(val_category_path, img)\n",
    "            shutil.move(src, dest)\n",
    "    \n",
    "    print(f\"Moved {int(validation_split * 100)}% of training data to validation set at {validation_path}\")\n",
    "\n",
    "# Example usage\n",
    "training_path = \"E:/DataSet2/trainn\"  # Change to actual training dataset location\n",
    "validation_path = \"E:/DataSet2/validd\"  # Change to actual validation dataset location\n",
    "move_validation_data(training_path, validation_path)\n"
   ]
  },
  {
   "cell_type": "code",
   "execution_count": null,
   "id": "5f410091-683a-4736-bc37-1859c89bc5d9",
   "metadata": {},
   "outputs": [],
   "source": [
    "import os\n",
    "print(os.path.exists(\"trainn_model.keras\"))\n"
   ]
  },
  {
   "cell_type": "code",
   "execution_count": null,
   "id": "32ab84a3-fe6b-4f7f-82a7-bae8cb9ffc57",
   "metadata": {},
   "outputs": [],
   "source": [
    "import h5py\n",
    "\n",
    "try:\n",
    "    with h5py.File(\"trainn_model.keras\", \"r\") as f:\n",
    "        print(\"Model file is readable!\")\n",
    "except OSError as e:\n",
    "    print(\"Error reading model file:\", e)\n"
   ]
  },
  {
   "cell_type": "code",
   "execution_count": null,
   "id": "522a5e15-3050-4b96-9f7d-8cb572e35575",
   "metadata": {},
   "outputs": [],
   "source": [
    "file trainn_model.keras\n"
   ]
  },
  {
   "cell_type": "code",
   "execution_count": 2,
   "id": "2bf12619-8588-457c-811f-4108d3a0b85e",
   "metadata": {},
   "outputs": [
    {
     "name": "stdout",
     "output_type": "stream",
     "text": [
      "2.18.0\n"
     ]
    }
   ],
   "source": [
    "import tensorflow as tf\n",
    "print(tf.__version__)\n"
   ]
  },
  {
   "cell_type": "code",
   "execution_count": 3,
   "id": "967eb68e-ebd7-4200-88a7-3e75082cdcf4",
   "metadata": {},
   "outputs": [
    {
     "data": {
      "text/plain": [
       "'2.18.0'"
      ]
     },
     "execution_count": 3,
     "metadata": {},
     "output_type": "execute_result"
    }
   ],
   "source": [
    "import tensorflow as tf\n",
    "tf.__version__\n"
   ]
  },
  {
   "cell_type": "code",
   "execution_count": null,
   "id": "9aaf88de-fef3-463c-bdcc-4d414136db26",
   "metadata": {},
   "outputs": [],
   "source": []
  }
 ],
 "metadata": {
  "kernelspec": {
   "display_name": "Python (TensorFlow)",
   "language": "python",
   "name": "tensorflow"
  },
  "language_info": {
   "codemirror_mode": {
    "name": "ipython",
    "version": 3
   },
   "file_extension": ".py",
   "mimetype": "text/x-python",
   "name": "python",
   "nbconvert_exporter": "python",
   "pygments_lexer": "ipython3",
   "version": "3.12.3"
  }
 },
 "nbformat": 4,
 "nbformat_minor": 5
}
