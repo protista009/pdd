{
 "cells": [
  {
   "cell_type": "code",
   "execution_count": 1,
   "id": "c3352700-3c6c-418b-9b41-248b405a888e",
   "metadata": {},
   "outputs": [],
   "source": [
    "import os\n",
    "os.chdir(\"C:/Users/Dell/OneDrive/Desktop/pdd/yolov5\")\n"
   ]
  },
  {
   "cell_type": "code",
   "execution_count": 5,
   "id": "e24ed886-b397-4d55-b126-28ce1a405eed",
   "metadata": {},
   "outputs": [
    {
     "name": "stdout",
     "output_type": "stream",
     "text": [
      "train: data_new/train/images\n",
      "val: data_new/valid/images\n",
      "test: data_new/test/images\n",
      "\n",
      "nc: 2\n",
      "names: ['healthy', 'unhealthy']\n",
      "\n",
      "roboflow:\n",
      "  workspace: prior\n",
      "  project: img_detection-egqdn\n",
      "  version: 1\n",
      "  license: CC BY 4.0\n",
      "  url: https://universe.roboflow.com/prior/img_detection-egqdn/dataset/1\n"
     ]
    }
   ],
   "source": [
    "!type data_new\\data.yaml\n",
    "\n"
   ]
  },
  {
   "cell_type": "code",
   "execution_count": null,
   "id": "f33cb6fb-5b18-4509-b9c0-68b9d69cd4ff",
   "metadata": {},
   "outputs": [],
   "source": [
    "!python train.py --img 640 --batch 4 --epochs 10 --data data_new/data.yaml --weights yolov5s.pt --name my_custom_model --device cpu > output.txt\n"
   ]
  },
  {
   "cell_type": "code",
   "execution_count": null,
   "id": "c873b51a-5a81-401b-af27-802804526c1b",
   "metadata": {},
   "outputs": [],
   "source": []
  }
 ],
 "metadata": {
  "kernelspec": {
   "display_name": "Python (tf210_env)",
   "language": "python",
   "name": "tf210_env"
  },
  "language_info": {
   "codemirror_mode": {
    "name": "ipython",
    "version": 3
   },
   "file_extension": ".py",
   "mimetype": "text/x-python",
   "name": "python",
   "nbconvert_exporter": "python",
   "pygments_lexer": "ipython3",
   "version": "3.10.16"
  }
 },
 "nbformat": 4,
 "nbformat_minor": 5
}
