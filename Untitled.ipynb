{
 "cells": [
  {
   "cell_type": "markdown",
   "id": "947d9f31-5ec8-4e10-b261-7669b4dcb86c",
   "metadata": {},
   "source": [
    "importing libraries\n"
   ]
  },
  {
   "cell_type": "code",
   "execution_count": 1,
   "id": "5f410091-683a-4736-bc37-1859c89bc5d9",
   "metadata": {},
   "outputs": [
    {
     "name": "stdout",
     "output_type": "stream",
     "text": [
      "True\n"
     ]
    }
   ],
   "source": [
    "import os\n",
    "print(os.path.exists(\"trainn_model.keras\"))\n"
   ]
  },
  {
   "cell_type": "code",
   "execution_count": 2,
   "id": "c446d96b-0ce1-4985-b2fa-86347b07f05b",
   "metadata": {},
   "outputs": [
    {
     "name": "stdout",
     "output_type": "stream",
     "text": [
      "TensorFlow version: 2.18.0\n"
     ]
    }
   ],
   "source": [
    "import tensorflow as tf\n",
    "print(\"TensorFlow version:\", tf.__version__)\n"
   ]
  },
  {
   "cell_type": "code",
   "execution_count": 3,
   "id": "32ab84a3-fe6b-4f7f-82a7-bae8cb9ffc57",
   "metadata": {},
   "outputs": [
    {
     "name": "stdout",
     "output_type": "stream",
     "text": [
      "Error reading model file: Unable to synchronously open file (file signature not found)\n"
     ]
    }
   ],
   "source": [
    "import h5py\n",
    "\n",
    "try:\n",
    "    with h5py.File(\"trainn_model.keras\", \"r\") as f:\n",
    "        print(\"Model file is readable!\")\n",
    "except OSError as e:\n",
    "    print(\"Error reading model file:\", e)\n"
   ]
  },
  {
   "cell_type": "code",
   "execution_count": 4,
   "id": "522a5e15-3050-4b96-9f7d-8cb572e35575",
   "metadata": {},
   "outputs": [
    {
     "ename": "SyntaxError",
     "evalue": "invalid syntax (2600092708.py, line 1)",
     "output_type": "error",
     "traceback": [
      "\u001b[1;36m  Cell \u001b[1;32mIn[4], line 1\u001b[1;36m\u001b[0m\n\u001b[1;33m    file trainn_model.keras\u001b[0m\n\u001b[1;37m         ^\u001b[0m\n\u001b[1;31mSyntaxError\u001b[0m\u001b[1;31m:\u001b[0m invalid syntax\n"
     ]
    }
   ],
   "source": [
    "file trainn_model.keras\n"
   ]
  },
  {
   "cell_type": "code",
   "execution_count": null,
   "id": "2bf12619-8588-457c-811f-4108d3a0b85e",
   "metadata": {},
   "outputs": [],
   "source": [
    "import tensorflow as tf\n",
    "print(tf.__version__)\n"
   ]
  },
  {
   "cell_type": "code",
   "execution_count": null,
   "id": "967eb68e-ebd7-4200-88a7-3e75082cdcf4",
   "metadata": {},
   "outputs": [],
   "source": [
    "import tensorflow as tf\n",
    "tf.__version__\n"
   ]
  },
  {
   "cell_type": "code",
   "execution_count": null,
   "id": "9aaf88de-fef3-463c-bdcc-4d414136db26",
   "metadata": {},
   "outputs": [],
   "source": [
    "import os\n",
    "print(\"File exists:\", os.path.exists(\"trainnew_model.keras\"))\n"
   ]
  },
  {
   "cell_type": "code",
   "execution_count": null,
   "id": "4d047b90-4cae-4952-8df6-23efc351153c",
   "metadata": {},
   "outputs": [],
   "source": [
    "import h5py\n",
    "\n",
    "try:\n",
    "    with h5py.File(\"trainnew_model.keras\", \"r\") as f:\n",
    "        print(\"Model file is valid\")\n",
    "except Exception as e:\n",
    "    print(\"Error:\", e)\n"
   ]
  },
  {
   "cell_type": "code",
   "execution_count": null,
   "id": "b134cae1-7160-46bc-956c-6550627b2cb0",
   "metadata": {},
   "outputs": [],
   "source": [
    "import os\n",
    "\n",
    "file_path = \"trainnew_model.keras\"\n",
    "print(\"File exists:\", os.path.exists(file_path))\n",
    "print(\"File size:\", os.path.getsize(file_path), \"bytes\")\n"
   ]
  },
  {
   "cell_type": "code",
   "execution_count": null,
   "id": "88c2836c-fce9-4613-95c0-2d3906ea703e",
   "metadata": {},
   "outputs": [],
   "source": [
    "import h5py\n",
    "\n",
    "try:\n",
    "    with h5py.File(\"trainnew_model.keras\", \"r\") as f:\n",
    "        print(\"Model file is valid\")\n",
    "except Exception as e:\n",
    "    print(\"Error:\", e)"
   ]
  },
  {
   "cell_type": "code",
   "execution_count": null,
   "id": "5df1dc93-1f6a-432a-b7c3-2812d8571e5a",
   "metadata": {},
   "outputs": [],
   "source": [
    "import tensorflow as tf\n",
    "\n",
    "try:\n",
    "    model = tf.keras.models.load_model(\"trainnew_model.h5\")\n",
    "    print(\"Model loaded successfully!\")\n",
    "except Exception as e:\n",
    "    print(\"Error loading model:\", e)\n"
   ]
  },
  {
   "cell_type": "code",
   "execution_count": null,
   "id": "69fc6576-f33a-48ef-910b-1ead3f2e1d10",
   "metadata": {},
   "outputs": [],
   "source": [
    "model.save(\"trainnew_model.h5\")\n"
   ]
  },
  {
   "cell_type": "code",
   "execution_count": null,
   "id": "ef9f196f-0913-451a-b5cf-0a29133548be",
   "metadata": {},
   "outputs": [],
   "source": [
    "import tensorflow as tf\n",
    "\n",
    "model = tf.keras.models.load_model(\"trainnew_model.h5\")\n",
    "model.summary()\n"
   ]
  },
  {
   "cell_type": "code",
   "execution_count": null,
   "id": "1034390c-dd5c-4a39-bc43-6012f4c3637d",
   "metadata": {},
   "outputs": [],
   "source": [
    "print(\"Test image shape:\", test_image.shape)\n"
   ]
  },
  {
   "cell_type": "code",
   "execution_count": null,
   "id": "94737a3d-e2fb-43bd-9587-4de8b6156078",
   "metadata": {},
   "outputs": [],
   "source": [
    "import keras\n",
    "print(\"Keras version:\", keras.__version__)\n"
   ]
  },
  {
   "cell_type": "code",
   "execution_count": null,
   "id": "0718516b-2c82-4601-8292-b6f393551f26",
   "metadata": {},
   "outputs": [],
   "source": [
    "import tensorflow as tf\n",
    "print(\"TensorFlow version:\", tf.__version__)\n"
   ]
  },
  {
   "cell_type": "code",
   "execution_count": null,
   "id": "d3e51ef8-9a1c-4b11-a6e2-052018f28ea2",
   "metadata": {},
   "outputs": [],
   "source": [
    "import tensorflow as tf\n",
    "\n",
    "# Load model trained in TF 2.18\n",
    "model = tf.keras.models.load_model(\"trainnew_model.h5\", compile=False)\n",
    "\n",
    "# Save in a format compatible with TF 2.10\n",
    "model.save(\"trainnew_model_fixed.h5\", save_format=\"h5\")\n"
   ]
  },
  {
   "cell_type": "code",
   "execution_count": null,
   "id": "442c4274-7518-4aef-9fa9-1d60e10e31dd",
   "metadata": {},
   "outputs": [],
   "source": []
  }
 ],
 "metadata": {
  "kernelspec": {
   "display_name": "Python (TensorFlow)",
   "language": "python",
   "name": "tensorflow"
  },
  "language_info": {
   "codemirror_mode": {
    "name": "ipython",
    "version": 3
   },
   "file_extension": ".py",
   "mimetype": "text/x-python",
   "name": "python",
   "nbconvert_exporter": "python",
   "pygments_lexer": "ipython3",
   "version": "3.12.3"
  }
 },
 "nbformat": 4,
 "nbformat_minor": 5
}
