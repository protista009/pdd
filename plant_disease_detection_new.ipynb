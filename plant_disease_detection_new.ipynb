{
 "cells": [
  {
   "cell_type": "markdown",
   "id": "6fef44c6-ff68-417b-b936-fc51d3e8b434",
   "metadata": {},
   "source": [
    "\n",
    "importing library\n"
   ]
  },
  {
   "cell_type": "code",
   "execution_count": 3,
   "id": "b840f2f3-dbe9-4b8c-8300-2e9525051771",
   "metadata": {},
   "outputs": [],
   "source": [
    "import tensorflow as tf\n",
    "import matplotlib.pyplot as plt\n",
    "import pandas as pd\n",
    "import seaborn as sns"
   ]
  },
  {
   "cell_type": "markdown",
   "id": "e6632159-ef4b-4f5e-99dc-0cbde0e96af6",
   "metadata": {},
   "source": [
    "data training preprocessing"
   ]
  },
  {
   "cell_type": "raw",
   "id": "a07ff5d0-8ab3-462a-9471-02d4330c11d3",
   "metadata": {},
   "source": [
    "training image preprocessing\n",
    "\n"
   ]
  },
  {
   "cell_type": "code",
   "execution_count": 7,
   "id": "ea7e3e44-0dfd-4561-accb-77c70ea12bd8",
   "metadata": {},
   "outputs": [
    {
     "name": "stdout",
     "output_type": "stream",
     "text": [
      "Found 10817 files belonging to 2 classes.\n"
     ]
    }
   ],
   "source": [
    "training_set = tf.keras.utils.image_dataset_from_directory(\n",
    "    'DataSet2/data_split/training',\n",
    "    labels=\"inferred\",\n",
    "    label_mode=\"int\",\n",
    "    batch_size=32,\n",
    "    image_size=(128, 128),\n",
    "    shuffle=True,\n",
    "    interpolation=\"bilinear\",\n",
    "    follow_links=False\n",
    ")\n"
   ]
  },
  {
   "cell_type": "code",
   "execution_count": 16,
   "id": "1e0f5886-8365-4529-bf2f-0279fb5bebde",
   "metadata": {},
   "outputs": [
    {
     "name": "stdout",
     "output_type": "stream",
     "text": [
      "Found 2703 files belonging to 2 classes.\n"
     ]
    }
   ],
   "source": [
    "validation_set = tf.keras.utils.image_dataset_from_directory(\n",
    "    'DataSet2/data_split/validation',\n",
    "    labels=\"inferred\",\n",
    "    label_mode=\"int\",\n",
    "    batch_size=32,\n",
    "    image_size=(128, 128),\n",
    "    shuffle=True,\n",
    "    interpolation=\"bilinear\",\n",
    "    follow_links=False\n",
    ")\n"
   ]
  },
  {
   "cell_type": "markdown",
   "id": "541ee888-e08e-426b-9d0d-7c03cb992fe6",
   "metadata": {},
   "source": [
    "validation image preprocesssing\n"
   ]
  },
  {
   "cell_type": "code",
   "execution_count": 17,
   "id": "09a2ca5f-7375-4366-be62-4a39758261cc",
   "metadata": {},
   "outputs": [
    {
     "data": {
      "text/plain": [
       "<BatchDataset element_spec=(TensorSpec(shape=(None, 128, 128, 3), dtype=tf.float32, name=None), TensorSpec(shape=(None,), dtype=tf.int32, name=None))>"
      ]
     },
     "execution_count": 17,
     "metadata": {},
     "output_type": "execute_result"
    }
   ],
   "source": [
    "training_set\n"
   ]
  },
  {
   "cell_type": "code",
   "execution_count": 18,
   "id": "7ae6625b-0cbe-4e7d-a2fc-b69e9527c369",
   "metadata": {},
   "outputs": [],
   "source": [
    "#for x,y in training_set:\n",
    "    #print(x,x.shape)\n",
    "    #print(y,y.shape)\n",
    "#break"
   ]
  },
  {
   "cell_type": "markdown",
   "id": "d89d2c09-8213-481e-83fc-cee90b52fcc6",
   "metadata": {},
   "source": [
    "building model"
   ]
  },
  {
   "cell_type": "code",
   "execution_count": 19,
   "id": "a0753f30-8bc4-4217-aea5-39ed0a0ef908",
   "metadata": {},
   "outputs": [],
   "source": [
    "from tensorflow.keras.layers import Dense,Conv2D\n",
    "from tensorflow.keras.models import Sequential\n",
    "from keras.layers import MaxPool2D,Flatten\n",
    "from tensorflow.keras.layers import Dropout\n"
   ]
  },
  {
   "cell_type": "code",
   "execution_count": 20,
   "id": "1f0b7a54-8393-4bdd-888d-0232f68ccd61",
   "metadata": {},
   "outputs": [
    {
     "name": "stdout",
     "output_type": "stream",
     "text": [
      "Model: \"sequential_1\"\n",
      "_________________________________________________________________\n",
      " Layer (type)                Output Shape              Param #   \n",
      "=================================================================\n",
      " conv2d_6 (Conv2D)           (None, 128, 128, 64)      1792      \n",
      "                                                                 \n",
      " conv2d_7 (Conv2D)           (None, 126, 126, 64)      36928     \n",
      "                                                                 \n",
      " max_pooling2d_3 (MaxPooling  (None, 63, 63, 64)       0         \n",
      " 2D)                                                             \n",
      "                                                                 \n",
      " conv2d_8 (Conv2D)           (None, 63, 63, 128)       73856     \n",
      "                                                                 \n",
      " conv2d_9 (Conv2D)           (None, 61, 61, 128)       147584    \n",
      "                                                                 \n",
      " max_pooling2d_4 (MaxPooling  (None, 30, 30, 128)      0         \n",
      " 2D)                                                             \n",
      "                                                                 \n",
      " conv2d_10 (Conv2D)          (None, 30, 30, 256)       295168    \n",
      "                                                                 \n",
      " conv2d_11 (Conv2D)          (None, 28, 28, 256)       590080    \n",
      "                                                                 \n",
      " max_pooling2d_5 (MaxPooling  (None, 14, 14, 256)      0         \n",
      " 2D)                                                             \n",
      "                                                                 \n",
      " dropout_2 (Dropout)         (None, 14, 14, 256)       0         \n",
      "                                                                 \n",
      " global_average_pooling2d_1   (None, 256)              0         \n",
      " (GlobalAveragePooling2D)                                        \n",
      "                                                                 \n",
      " dense_2 (Dense)             (None, 512)               131584    \n",
      "                                                                 \n",
      " dropout_3 (Dropout)         (None, 512)               0         \n",
      "                                                                 \n",
      " dense_3 (Dense)             (None, 2)                 1026      \n",
      "                                                                 \n",
      "=================================================================\n",
      "Total params: 1,278,018\n",
      "Trainable params: 1,278,018\n",
      "Non-trainable params: 0\n",
      "_________________________________________________________________\n"
     ]
    }
   ],
   "source": [
    "import tensorflow as tf\n",
    "from tensorflow.keras.models import Sequential\n",
    "from tensorflow.keras.layers import Conv2D, MaxPool2D, Dropout, Dense, GlobalAveragePooling2D\n",
    "\n",
    "# Model Definition\n",
    "model = Sequential()\n",
    "\n",
    "# First Conv Block\n",
    "model.add(Conv2D(64, (3,3), padding='same', activation='relu', input_shape=(128,128,3)))\n",
    "model.add(Conv2D(64, (3,3), activation='relu'))\n",
    "model.add(MaxPool2D(pool_size=(2,2), strides=2))\n",
    "\n",
    "# Second Conv Block\n",
    "model.add(Conv2D(128, (3,3), padding='same', activation='relu'))\n",
    "model.add(Conv2D(128, (3,3), activation='relu'))\n",
    "model.add(MaxPool2D(pool_size=(2,2), strides=2))\n",
    "\n",
    "# Third Conv Block\n",
    "model.add(Conv2D(256, (3,3), padding='same', activation='relu'))\n",
    "model.add(Conv2D(256, (3,3), activation='relu'))\n",
    "model.add(MaxPool2D(pool_size=(2,2), strides=2))\n",
    "\n",
    "# Fully Connected Layers\n",
    "model.add(Dropout(0.25))\n",
    "model.add(GlobalAveragePooling2D())  # ✅ Replaces Flatten() for lower memory use\n",
    "model.add(Dense(512, activation='relu'))  # ✅ Reduced from 1500 to 512\n",
    "model.add(Dropout(0.4))\n",
    "model.add(Dense(2, activation='softmax'))  # ✅ Softmax is fine for two-class classification\n",
    "\n",
    "# Model Compilation\n",
    "model.compile(optimizer=tf.keras.optimizers.Adam(learning_rate=0.0001),\n",
    "              loss='sparse_categorical_crossentropy',  # Use 'binary_crossentropy' if using one-hot labels\n",
    "              metrics=['accuracy'])\n",
    "\n",
    "# Model Summary\n",
    "model.summary()\n"
   ]
  },
  {
   "cell_type": "markdown",
   "id": "b4da68fb-234a-49bd-af1e-4dc4863f9f96",
   "metadata": {},
   "source": [
    "building convolution layer"
   ]
  },
  {
   "cell_type": "markdown",
   "id": "c061a404-fa23-457c-924e-d9bbf229000e",
   "metadata": {},
   "source": [
    "\n",
    "training model\n"
   ]
  },
  {
   "cell_type": "code",
   "execution_count": null,
   "id": "28310586-eafc-4758-b4be-01ce53884f51",
   "metadata": {},
   "outputs": [
    {
     "name": "stdout",
     "output_type": "stream",
     "text": [
      "Epoch 1/10\n",
      "80/85 [===========================>..] - ETA: 18s - loss: 0.8388 - accuracy: 0.5324 "
     ]
    }
   ],
   "source": [
    "training_history_n=model.fit(x=training_set,validation_data=validation_set,epochs=10)"
   ]
  },
  {
   "cell_type": "markdown",
   "id": "5e666e8b-a617-4687-849f-ef3262d03074",
   "metadata": {},
   "source": [
    "model evaluation of training set"
   ]
  },
  {
   "cell_type": "code",
   "execution_count": 9,
   "id": "12910a52-ff6b-4e4b-9ec4-7028a38af3ac",
   "metadata": {},
   "outputs": [
    {
     "name": "stdout",
     "output_type": "stream",
     "text": [
      "\u001b[1m339/339\u001b[0m \u001b[32m━━━━━━━━━━━━━━━━━━━━\u001b[0m\u001b[37m\u001b[0m \u001b[1m179s\u001b[0m 528ms/step - accuracy: 0.9141 - loss: 0.2508\n",
      "\u001b[1m85/85\u001b[0m \u001b[32m━━━━━━━━━━━━━━━━━━━━\u001b[0m\u001b[37m\u001b[0m \u001b[1m44s\u001b[0m 519ms/step - accuracy: 0.9049 - loss: 0.2706\n",
      "Training Loss: 0.25412246584892273, Training Accuracy: 0.9121752977371216\n",
      "Validation Loss: 0.29137593507766724, Validation Accuracy: 0.8964114189147949\n"
     ]
    }
   ],
   "source": [
    "# Evaluate  the training set\n",
    "train_loss, train_acc = model.evaluate(training_set)\n",
    "\n",
    "# Evaluate on the validation set (optional)\n",
    "val_loss, val_acc = model.evaluate(validation_set)\n",
    "\n",
    "# Print results\n",
    "print(f\"Training Loss: {train_loss}, Training Accuracy: {train_acc}\")\n",
    "print(f\"Validation Loss: {val_loss}, Validation Accuracy: {val_acc}\")\n"
   ]
  },
  {
   "cell_type": "markdown",
   "id": "bb6f1e12-35da-4142-a7b8-d77681b9b5b9",
   "metadata": {},
   "source": [
    "saving model"
   ]
  },
  {
   "cell_type": "code",
   "execution_count": 8,
   "id": "64c66116-392e-4cad-95eb-8b42c1fc9920",
   "metadata": {},
   "outputs": [],
   "source": [
    "model.save(\"trainnew_modell.keras\")"
   ]
  },
  {
   "cell_type": "code",
   "execution_count": 9,
   "id": "05ceceec-db6c-4bd7-94f5-2eafb3de7bdc",
   "metadata": {},
   "outputs": [
    {
     "ename": "NameError",
     "evalue": "name 'training_history_new' is not defined",
     "output_type": "error",
     "traceback": [
      "\u001b[1;31m---------------------------------------------------------------------------\u001b[0m",
      "\u001b[1;31mNameError\u001b[0m                                 Traceback (most recent call last)",
      "Cell \u001b[1;32mIn[9], line 1\u001b[0m\n\u001b[1;32m----> 1\u001b[0m training_history_new\u001b[38;5;241m.\u001b[39mhistory\n",
      "\u001b[1;31mNameError\u001b[0m: name 'training_history_new' is not defined"
     ]
    }
   ],
   "source": [
    "training_history_n.history"
   ]
  },
  {
   "cell_type": "code",
   "execution_count": 10,
   "id": "56658479-1d9c-403a-9c37-7e3b17208131",
   "metadata": {},
   "outputs": [
    {
     "ename": "NameError",
     "evalue": "name 'training_history_new' is not defined",
     "output_type": "error",
     "traceback": [
      "\u001b[1;31m---------------------------------------------------------------------------\u001b[0m",
      "\u001b[1;31mNameError\u001b[0m                                 Traceback (most recent call last)",
      "Cell \u001b[1;32mIn[10], line 4\u001b[0m\n\u001b[0;32m      2\u001b[0m \u001b[38;5;28;01mimport\u001b[39;00m \u001b[38;5;21;01mjson\u001b[39;00m\n\u001b[0;32m      3\u001b[0m \u001b[38;5;28;01mwith\u001b[39;00m \u001b[38;5;28mopen\u001b[39m(\u001b[38;5;124m\"\u001b[39m\u001b[38;5;124mtraining_hist.json\u001b[39m\u001b[38;5;124m\"\u001b[39m,\u001b[38;5;124m\"\u001b[39m\u001b[38;5;124mw\u001b[39m\u001b[38;5;124m\"\u001b[39m) \u001b[38;5;28;01mas\u001b[39;00m f:\n\u001b[1;32m----> 4\u001b[0m     json\u001b[38;5;241m.\u001b[39mdump(training_history_new\u001b[38;5;241m.\u001b[39mhistory,f)\n",
      "\u001b[1;31mNameError\u001b[0m: name 'training_history_new' is not defined"
     ]
    }
   ],
   "source": [
    "#recording History in json\n",
    "import json\n",
    "with open(\"training_hist.json\",\"w\") as f:\n",
    "    json.dump(training_history_n.history,f)\n"
   ]
  },
  {
   "cell_type": "raw",
   "id": "f68be2e3-d895-462d-b4c7-61a102759f99",
   "metadata": {},
   "source": [
    "Accuracy Visualisation"
   ]
  },
  {
   "cell_type": "code",
   "execution_count": 13,
   "id": "246a3100-3c8c-4ecd-b8a1-f1acc735a94b",
   "metadata": {},
   "outputs": [
    {
     "data": {
      "image/png": "[encoded data removed]",
      "text/plain": [
       "<Figure size 640x480 with 1 Axes>"
      ]
     },
     "metadata": {},
     "output_type": "display_data"
    }
   ],
   "source": [
    "epochs=[i for i in range(1,11)]\n",
    "plt.plot(epochs,training_history_n.history['accuracy'],color='red', label='Training accuracy')\n",
    "plt.plot(epochs,training_history_n.history['val_accuracy'],color='blue',label='Validation accuracy')\n",
    "plt.xlabel(\"No. of Epochs\")\n",
    "plt.ylabel(\"Accuracy of results\")\n",
    "plt.title(\"Visualisation of accuracy results\")\n",
    "plt.show()"
   ]
  },
  {
   "cell_type": "code",
   "execution_count": 11,
   "id": "c50a5d11-7daf-4ba6-a5fe-36aaa7184cc5",
   "metadata": {},
   "outputs": [
    {
     "name": "stdout",
     "output_type": "stream",
     "text": [
      "Found 2703 files belonging to 2 classes.\n"
     ]
    }
   ],
   "source": [
    "test_set = tf.keras.utils.image_dataset_from_directory(\n",
    "    'DataSet2/data_split/validation',\n",
    "    labels=\"inferred\",\n",
    "    label_mode=\"int\",\n",
    "    color_mode=\"rgb\",\n",
    "    batch_size=32,\n",
    "    image_size=(128, 128),\n",
    "    shuffle=False,\n",
    "    interpolation=\"bilinear\",\n",
    "    follow_links=False\n",
    ")\n"
   ]
  },
  {
   "cell_type": "code",
   "execution_count": 12,
   "id": "806a7c33-653a-4305-84e5-55ab22e57ddc",
   "metadata": {},
   "outputs": [
    {
     "name": "stdout",
     "output_type": "stream",
     "text": [
      "\u001b[1m85/85\u001b[0m \u001b[32m━━━━━━━━━━━━━━━━━━━━\u001b[0m\u001b[37m\u001b[0m \u001b[1m48s\u001b[0m 563ms/step\n"
     ]
    },
    {
     "data": {
      "text/plain": [
       "(array([[0.02485076, 0.9751492 ],\n",
       "        [0.00906846, 0.9909315 ],\n",
       "        [0.09055375, 0.9094463 ],\n",
       "        ...,\n",
       "        [0.02643886, 0.97356117],\n",
       "        [0.02479431, 0.97520566],\n",
       "        [0.02955613, 0.97044384]], dtype=float32),\n",
       " (2703, 2))"
      ]
     },
     "execution_count": 12,
     "metadata": {},
     "output_type": "execute_result"
    }
   ],
   "source": [
    "y_pred=model.predict(test_set)\n",
    "y_pred,y_pred.shape"
   ]
  },
  {
   "cell_type": "code",
   "execution_count": 13,
   "id": "f8029a88-2a9b-406f-9aa8-2af217e7e434",
   "metadata": {},
   "outputs": [
    {
     "data": {
      "text/plain": [
       "(array([[0.02485076, 0.9751492 ],\n",
       "        [0.00906846, 0.9909315 ],\n",
       "        [0.09055375, 0.9094463 ],\n",
       "        ...,\n",
       "        [0.02643886, 0.97356117],\n",
       "        [0.02479431, 0.97520566],\n",
       "        [0.02955613, 0.97044384]], dtype=float32),\n",
       " (2703, 2))"
      ]
     },
     "execution_count": 13,
     "metadata": {},
     "output_type": "execute_result"
    }
   ],
   "source": [
    "predicted_categories =tf.argmax(y_pred,axis=1)\n",
    "y_pred,y_pred.shape"
   ]
  },
  {
   "cell_type": "code",
   "execution_count": 1,
   "id": "219619ac-c0cf-4521-a9eb-409ecbb68de3",
   "metadata": {},
   "outputs": [
    {
     "ename": "NameError",
     "evalue": "name 'predicted_categories' is not defined",
     "output_type": "error",
     "traceback": [
      "\u001b[1;31m---------------------------------------------------------------------------\u001b[0m",
      "\u001b[1;31mNameError\u001b[0m                                 Traceback (most recent call last)",
      "Cell \u001b[1;32mIn[1], line 1\u001b[0m\n\u001b[1;32m----> 1\u001b[0m predicted_categories\n",
      "\u001b[1;31mNameError\u001b[0m: name 'predicted_categories' is not defined"
     ]
    }
   ],
   "source": [
    "predicted_categories"
   ]
  },
  {
   "cell_type": "code",
   "execution_count": 2,
   "id": "84cc3a76-0a51-4cdf-b2a1-c53072065d2f",
   "metadata": {},
   "outputs": [
    {
     "ename": "NameError",
     "evalue": "name 'tf' is not defined",
     "output_type": "error",
     "traceback": [
      "\u001b[1;31m---------------------------------------------------------------------------\u001b[0m",
      "\u001b[1;31mNameError\u001b[0m                                 Traceback (most recent call last)",
      "Cell \u001b[1;32mIn[2], line 1\u001b[0m\n\u001b[1;32m----> 1\u001b[0m true_categories \u001b[38;5;241m=\u001b[39m tf\u001b[38;5;241m.\u001b[39mconcat([y \u001b[38;5;28;01mfor\u001b[39;00m x,y \u001b[38;5;129;01min\u001b[39;00m test_set],axis\u001b[38;5;241m=\u001b[39m\u001b[38;5;241m0\u001b[39m)\n",
      "\u001b[1;31mNameError\u001b[0m: name 'tf' is not defined"
     ]
    }
   ],
   "source": [
    "true_categories = tf.concat([y for x,y in test_set],axis=0)"
   ]
  },
  {
   "cell_type": "code",
   "execution_count": 3,
   "id": "49440192-f827-467a-95d7-cbde25f73852",
   "metadata": {},
   "outputs": [
    {
     "ename": "NameError",
     "evalue": "name 'true_categories' is not defined",
     "output_type": "error",
     "traceback": [
      "\u001b[1;31m---------------------------------------------------------------------------\u001b[0m",
      "\u001b[1;31mNameError\u001b[0m                                 Traceback (most recent call last)",
      "Cell \u001b[1;32mIn[3], line 1\u001b[0m\n\u001b[1;32m----> 1\u001b[0m true_categories\n",
      "\u001b[1;31mNameError\u001b[0m: name 'true_categories' is not defined"
     ]
    }
   ],
   "source": [
    "true_categories"
   ]
  },
  {
   "cell_type": "code",
   "execution_count": 4,
   "id": "029b0b95-3a3c-47c1-ac36-1484d357bf51",
   "metadata": {},
   "outputs": [
    {
     "ename": "NameError",
     "evalue": "name 'true_categories' is not defined",
     "output_type": "error",
     "traceback": [
      "\u001b[1;31m---------------------------------------------------------------------------\u001b[0m",
      "\u001b[1;31mNameError\u001b[0m                                 Traceback (most recent call last)",
      "Cell \u001b[1;32mIn[4], line 1\u001b[0m\n\u001b[1;32m----> 1\u001b[0m Y_true \u001b[38;5;241m=\u001b[39m true_categories  \u001b[38;5;66;03m# No need for tf.argmax()\u001b[39;00m\n\u001b[0;32m      2\u001b[0m \u001b[38;5;28mprint\u001b[39m(Y_true)\n",
      "\u001b[1;31mNameError\u001b[0m: name 'true_categories' is not defined"
     ]
    }
   ],
   "source": [
    "Y_true = true_categories  # No need for tf.argmax()\n",
    "print(Y_true)\n"
   ]
  },
  {
   "cell_type": "code",
   "execution_count": 5,
   "id": "18ec9461-44d4-415e-bb5c-5581d19df240",
   "metadata": {},
   "outputs": [
    {
     "ename": "NameError",
     "evalue": "name 'true_categories' is not defined",
     "output_type": "error",
     "traceback": [
      "\u001b[1;31m---------------------------------------------------------------------------\u001b[0m",
      "\u001b[1;31mNameError\u001b[0m                                 Traceback (most recent call last)",
      "Cell \u001b[1;32mIn[5], line 1\u001b[0m\n\u001b[1;32m----> 1\u001b[0m \u001b[38;5;28mprint\u001b[39m(true_categories\u001b[38;5;241m.\u001b[39mshape)\n",
      "\u001b[1;31mNameError\u001b[0m: name 'true_categories' is not defined"
     ]
    }
   ],
   "source": [
    "print(true_categories.shape)  # Debugging step\n"
   ]
  },
  {
   "cell_type": "code",
   "execution_count": 6,
   "id": "89aa6988-ca2e-44a2-a3bf-e94fcf915dc0",
   "metadata": {},
   "outputs": [
    {
     "ename": "NameError",
     "evalue": "name 'Y_true' is not defined",
     "output_type": "error",
     "traceback": [
      "\u001b[1;31m---------------------------------------------------------------------------\u001b[0m",
      "\u001b[1;31mNameError\u001b[0m                                 Traceback (most recent call last)",
      "Cell \u001b[1;32mIn[6], line 7\u001b[0m\n\u001b[0;32m      4\u001b[0m class_name \u001b[38;5;241m=\u001b[39m [\u001b[38;5;124m'\u001b[39m\u001b[38;5;124mhealthy\u001b[39m\u001b[38;5;124m'\u001b[39m, \u001b[38;5;124m'\u001b[39m\u001b[38;5;124munhealthy\u001b[39m\u001b[38;5;124m'\u001b[39m]  \u001b[38;5;66;03m# Example: Modify based on your dataset\u001b[39;00m\n\u001b[0;32m      6\u001b[0m \u001b[38;5;66;03m# Generate the classification report\u001b[39;00m\n\u001b[1;32m----> 7\u001b[0m \u001b[38;5;28mprint\u001b[39m(classification_report(Y_true, predicted_categories, target_names\u001b[38;5;241m=\u001b[39mclass_name))\n",
      "\u001b[1;31mNameError\u001b[0m: name 'Y_true' is not defined"
     ]
    }
   ],
   "source": [
    "from sklearn.metrics import classification_report , confusion_matrix\n",
    "\n",
    "# Define class names (replace with your actual class labels)\n",
    "class_name = ['healthy', 'unhealthy']  # Example: Modify based on your dataset\n",
    "\n",
    "# Generate the classification report\n",
    "print(classification_report(Y_true, predicted_categories, target_names=class_name))\n"
   ]
  },
  {
   "cell_type": "code",
   "execution_count": null,
   "id": "28e86f6f-1e1a-4d64-9c4a-a038a5827e9e",
   "metadata": {},
   "outputs": [],
   "source": [
    "cm= confusion_matrix(Y_true, predicted_categories)\n",
    "cm"
   ]
  },
  {
   "cell_type": "raw",
   "id": "39a082d3-6edb-45d2-83bb-478ab5e816f1",
   "metadata": {},
   "source": [
    "confusion matrix visualisation"
   ]
  },
  {
   "cell_type": "code",
   "execution_count": 7,
   "id": "086fcba2-8a2f-4320-b52d-c6c5fe474f6c",
   "metadata": {},
   "outputs": [
    {
     "ename": "NameError",
     "evalue": "name 'Y_true' is not defined",
     "output_type": "error",
     "traceback": [
      "\u001b[1;31m---------------------------------------------------------------------------\u001b[0m",
      "\u001b[1;31mNameError\u001b[0m                                 Traceback (most recent call last)",
      "Cell \u001b[1;32mIn[7], line 7\u001b[0m\n\u001b[0;32m      3\u001b[0m \u001b[38;5;28;01mfrom\u001b[39;00m \u001b[38;5;21;01msklearn\u001b[39;00m\u001b[38;5;21;01m.\u001b[39;00m\u001b[38;5;21;01mmetrics\u001b[39;00m \u001b[38;5;28;01mimport\u001b[39;00m confusion_matrix\n\u001b[0;32m      5\u001b[0m \u001b[38;5;66;03m# Example usage:\u001b[39;00m\n\u001b[0;32m      6\u001b[0m \u001b[38;5;66;03m# Assuming Y_true and predicted_categories are defined\u001b[39;00m\n\u001b[1;32m----> 7\u001b[0m cm \u001b[38;5;241m=\u001b[39m confusion_matrix(Y_true, predicted_categories)\n\u001b[0;32m      9\u001b[0m \u001b[38;5;66;03m# Plot heatmap\u001b[39;00m\n\u001b[0;32m     10\u001b[0m plt\u001b[38;5;241m.\u001b[39mfigure(figsize\u001b[38;5;241m=\u001b[39m(\u001b[38;5;241m4\u001b[39m, \u001b[38;5;241m4\u001b[39m))  \u001b[38;5;66;03m# Create figure first\u001b[39;00m\n",
      "\u001b[1;31mNameError\u001b[0m: name 'Y_true' is not defined"
     ]
    }
   ],
   "source": [
    "import seaborn as sns\n",
    "import matplotlib.pyplot as plt\n",
    "from sklearn.metrics import confusion_matrix\n",
    "\n",
    "# Example usage:\n",
    "# Assuming Y_true and predicted_categories are defined\n",
    "cm = confusion_matrix(Y_true, predicted_categories)\n",
    "\n",
    "# Plot heatmap\n",
    "plt.figure(figsize=(4, 4))  # Create figure first\n",
    "ax = sns.heatmap(cm, annot=True, fmt='d', cmap='Blues')  # Save the axes to a variable\n",
    "\n",
    "# Labels and title\n",
    "ax.set_xlabel(\"Predicted Class\")\n",
    "ax.set_ylabel(\"Actual Class\")\n",
    "ax.set_title(\"Healthy Unhealthy Confusion Matrix\")\n",
    "\n",
    "plt.show()\n"
   ]
  },
  {
   "cell_type": "code",
   "execution_count": null,
   "id": "eac6edae-9a42-49be-967f-bd460b0cab17",
   "metadata": {},
   "outputs": [],
   "source": [
    "model.save(\"trainnew_model.keras\")\n"
   ]
  },
  {
   "cell_type": "code",
   "execution_count": null,
   "id": "2cde9c00-c774-473e-ae97-ae0dc0cf97f8",
   "metadata": {},
   "outputs": [],
   "source": [
    "model.save(\"trainnew_model.h5\")"
   ]
  },
  {
   "cell_type": "code",
   "execution_count": 8,
   "id": "cb2cde67-6d56-4dae-b43f-a5f0e873ddfe",
   "metadata": {},
   "outputs": [
    {
     "name": "stdout",
     "output_type": "stream",
     "text": [
      "TensorFlow version: 2.18.0\n"
     ]
    }
   ],
   "source": [
    "import tensorflow as tf\n",
    "print(\"TensorFlow version:\", tf.__version__)\n"
   ]
  },
  {
   "cell_type": "code",
   "execution_count": null,
   "id": "528c24d9-02e8-423f-959b-2b469b9a28ec",
   "metadata": {},
   "outputs": [],
   "source": []
  }
 ],
 "metadata": {
  "kernelspec": {
   "display_name": "Python (tf210_env)",
   "language": "python",
   "name": "tf210_env"
  },
  "language_info": {
   "codemirror_mode": {
    "name": "ipython",
    "version": 3
   },
   "file_extension": ".py",
   "mimetype": "text/x-python",
   "name": "python",
   "nbconvert_exporter": "python",
   "pygments_lexer": "ipython3",
   "version": "3.10.16"
  }
 },
 "nbformat": 4,
 "nbformat_minor": 5
}
