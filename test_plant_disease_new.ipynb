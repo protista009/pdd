{
 "cells": [
  {
   "cell_type": "code",
   "execution_count": null,
   "id": "9f31c800-1fea-4679-bcc1-4c917ad83f96",
   "metadata": {},
   "outputs": [],
   "source": [
    "import numpy as np\n",
    "import os\n",
    "import tensorflow as tf\n",
    "from tensorflow.keras.preprocessing.image import ImageDataGenerator\n",
    "import cv2\n",
    "import matplotlib.pyplot as plt"
   ]
  },
  {
   "cell_type": "code",
   "execution_count": null,
   "id": "4bb64c86-9670-425b-bc39-2e574f25dccb",
   "metadata": {},
   "outputs": [],
   "source": [
    "model= tf.keras .models.load_model('trainnew_model.keras')"
   ]
  },
  {
   "cell_type": "code",
   "execution_count": null,
   "id": "af1727cf-2026-43ad-b8a5-d3e91c15b6e8",
   "metadata": {},
   "outputs": [],
   "source": [
    "import h5py\n",
    "\n",
    "try:\n",
    "    with h5py.File(\"trainnew_model.keras\", \"r\") as f:\n",
    "        print(\"Model file is valid\")\n",
    "except Exception as e:\n",
    "    print(\"Error:\", e)"
   ]
  },
  {
   "cell_type": "markdown",
   "id": "3796d38f",
   "metadata": {},
   "source": []
  },
  {
   "cell_type": "code",
   "execution_count": null,
   "id": "4211e4bd-5949-45ab-a067-5f5206869a52",
   "metadata": {},
   "outputs": [],
   "source": [
    "model.summary"
   ]
  },
  {
   "cell_type": "raw",
   "id": "eb117cb8-b8e0-4285-9647-13f3e34c5d87",
   "metadata": {},
   "source": [
    "Visualizing single image pf test set\n"
   ]
  },
  {
   "cell_type": "code",
   "execution_count": null,
   "id": "6df52b0f-db5e-4df8-bbd3-bc274bf2fb68",
   "metadata": {},
   "outputs": [],
   "source": [
    "class_name = ['healthy', 'unhealthy'] "
   ]
  },
  {
   "cell_type": "code",
   "execution_count": null,
   "id": "442af77f-a5ec-4756-a5ef-2f5493e7e9a1",
   "metadata": {},
   "outputs": [],
   "source": [
    "image_path=\"test/testimg/unh4.jpg\"\n",
    "\n",
    "img=cv2.imread(image_path)\n",
    "\n",
    "img = cv2.cvtColor(img, cv2.COLOR_BGR2RGB)\n",
    "\n",
    "        # Display the image\n",
    "plt.figure()\n",
    "plt.imshow(img)\n",
    "plt.title(\"image\")\n",
    "plt.xticks([])  # Remove x-axis ticks\n",
    "plt.yticks([])  # Remove y-axis ticks\n",
    "plt.show()"
   ]
  },
  {
   "cell_type": "code",
   "execution_count": null,
   "id": "447256be-1c2e-4ce3-bb13-68eddb70a000",
   "metadata": {},
   "outputs": [],
   "source": []
  },
  {
   "cell_type": "code",
   "execution_count": null,
   "id": "f11985bb-d600-4313-afa0-cdc04eb2fa49",
   "metadata": {},
   "outputs": [],
   "source": [
    "## Testing model\n"
   ]
  },
  {
   "cell_type": "code",
   "execution_count": null,
   "id": "fb63ac5e-76bd-42d5-8057-238a0bae6357",
   "metadata": {},
   "outputs": [],
   "source": [
    "image =tf.keras.preprocessing.image.load_img(image_path,target_size=(128,128))\n",
    "input_arr=tf.keras.preprocessing.image.img_to_array(image)\n",
    "input_arr=np.array([input_arr]) #convert single image to batch\n",
    "print(input_arr.shape)\n"
   ]
  },
  {
   "cell_type": "code",
   "execution_count": null,
   "id": "f8f0f669-8b1f-445f-b37f-a391cd2642fb",
   "metadata": {},
   "outputs": [],
   "source": [
    "prediction=model.predict(input_arr)\n",
    "prediction,prediction.shape"
   ]
  },
  {
   "cell_type": "code",
   "execution_count": null,
   "id": "6ebb69c9-0477-4730-9871-06df5c9908d6",
   "metadata": {},
   "outputs": [],
   "source": [
    "result_index = np.argmax(prediction)\n",
    "result_index"
   ]
  },
  {
   "cell_type": "code",
   "execution_count": null,
   "id": "811adeb8-6d89-445e-bbc9-4a070d3ca953",
   "metadata": {},
   "outputs": [],
   "source": [
    "print(f\"🔍 Prediction shape: {prediction.shape}, Prediction values: {prediction}\")\n"
   ]
  },
  {
   "cell_type": "code",
   "execution_count": null,
   "id": "a00db654-5c56-4510-a21b-b8db89ab2f32",
   "metadata": {},
   "outputs": [],
   "source": [
    "model_prediction = class_name[result_index]\n",
    "plt.figure()\n",
    "plt.imshow(img)\n",
    "plt.title(f\"disease : {model_prediction}\")\n",
    "plt.xticks([])  # Remove x-axis ticks\n",
    "plt.yticks([])  # Remove y-axis ticks\n",
    "plt.show()\n"
   ]
  },
  {
   "cell_type": "code",
   "execution_count": null,
   "id": "d3ebc1f0-431d-415b-9907-6f40396aa3f4",
   "metadata": {},
   "outputs": [],
   "source": []
  },
  {
   "cell_type": "code",
   "execution_count": null,
   "id": "a6fdfc81-f23c-45a1-a8ae-89758ac9f767",
   "metadata": {},
   "outputs": [],
   "source": []
  },
  {
   "cell_type": "code",
   "execution_count": null,
   "id": "0731e539-0b75-46c9-b53d-4e3c71cd0700",
   "metadata": {},
   "outputs": [],
   "source": []
  },
  {
   "cell_type": "code",
   "execution_count": null,
   "id": "2c8b3785-820c-4694-a867-63fb48b27f50",
   "metadata": {},
   "outputs": [],
   "source": []
  }
 ],
 "metadata": {
  "kernelspec": {
   "display_name": "Python (tf210_env)",
   "language": "python",
   "name": "tf210_env"
  },
  "language_info": {
   "codemirror_mode": {
    "name": "ipython",
    "version": 3
   },
   "file_extension": ".py",
   "mimetype": "text/x-python",
   "name": "python",
   "nbconvert_exporter": "python",
   "pygments_lexer": "ipython3",
   "version": "3.10.16"
  }
 },
 "nbformat": 4,
 "nbformat_minor": 5
}
