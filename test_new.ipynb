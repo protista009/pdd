{
 "cells": [
  {
   "cell_type": "code",
   "execution_count": 1,
   "id": "348db282-79c0-49e5-b116-357926133768",
   "metadata": {},
   "outputs": [
    {
     "name": "stdout",
     "output_type": "stream",
     "text": [
      "PyTorch version: 2.6.0+cpu\n",
      "CUDA available: False\n"
     ]
    }
   ],
   "source": [
    "import torch\n",
    "print(\"PyTorch version:\", torch.__version__)\n",
    "print(\"CUDA available:\", torch.cuda.is_available())\n"
   ]
  },
  {
   "cell_type": "code",
   "execution_count": 3,
   "id": "7be394b8-bcc0-4866-9d73-37910620bef2",
   "metadata": {},
   "outputs": [
    {
     "name": "stdout",
     "output_type": "stream",
     "text": [
      "Requirement already satisfied: gitpython>=3.1.30 in e:\\anaconda\\envs\\tf210_env\\lib\\site-packages (from -r requirements.txt (line 5)) (3.1.44)\n",
      "Requirement already satisfied: matplotlib>=3.3 in e:\\anaconda\\envs\\tf210_env\\lib\\site-packages (from -r requirements.txt (line 6)) (3.5.3)\n",
      "Requirement already satisfied: numpy>=1.23.5 in e:\\anaconda\\envs\\tf210_env\\lib\\site-packages (from -r requirements.txt (line 7)) (1.26.4)\n",
      "Requirement already satisfied: opencv-python>=4.1.1 in e:\\anaconda\\envs\\tf210_env\\lib\\site-packages (from -r requirements.txt (line 8)) (4.6.0.66)\n",
      "Requirement already satisfied: pillow>=10.3.0 in e:\\anaconda\\envs\\tf210_env\\lib\\site-packages (from -r requirements.txt (line 9)) (11.1.0)\n",
      "Requirement already satisfied: psutil in e:\\anaconda\\envs\\tf210_env\\lib\\site-packages (from -r requirements.txt (line 10)) (7.0.0)\n",
      "Requirement already satisfied: PyYAML>=5.3.1 in e:\\anaconda\\envs\\tf210_env\\lib\\site-packages (from -r requirements.txt (line 11)) (6.0.2)\n",
      "Requirement already satisfied: requests>=2.32.2 in e:\\anaconda\\envs\\tf210_env\\lib\\site-packages (from -r requirements.txt (line 12)) (2.32.3)\n",
      "Requirement already satisfied: scipy>=1.4.1 in e:\\anaconda\\envs\\tf210_env\\lib\\site-packages (from -r requirements.txt (line 13)) (1.15.2)\n",
      "Requirement already satisfied: thop>=0.1.1 in e:\\anaconda\\envs\\tf210_env\\lib\\site-packages (from -r requirements.txt (line 14)) (0.1.1.post2209072238)\n",
      "Requirement already satisfied: torch>=1.8.0 in e:\\anaconda\\envs\\tf210_env\\lib\\site-packages (from -r requirements.txt (line 15)) (2.6.0)\n",
      "Requirement already satisfied: torchvision>=0.9.0 in e:\\anaconda\\envs\\tf210_env\\lib\\site-packages (from -r requirements.txt (line 16)) (0.21.0)\n",
      "Requirement already satisfied: tqdm>=4.66.3 in e:\\anaconda\\envs\\tf210_env\\lib\\site-packages (from -r requirements.txt (line 17)) (4.67.1)\n",
      "Requirement already satisfied: ultralytics>=8.2.34 in e:\\anaconda\\envs\\tf210_env\\lib\\site-packages (from -r requirements.txt (line 18)) (8.3.105)\n",
      "Requirement already satisfied: pandas>=1.1.4 in e:\\anaconda\\envs\\tf210_env\\lib\\site-packages (from -r requirements.txt (line 27)) (2.2.3)\n",
      "Requirement already satisfied: seaborn>=0.11.0 in e:\\anaconda\\envs\\tf210_env\\lib\\site-packages (from -r requirements.txt (line 28)) (0.12.2)\n",
      "Requirement already satisfied: setuptools>=70.0.0 in e:\\anaconda\\envs\\tf210_env\\lib\\site-packages (from -r requirements.txt (line 42)) (75.8.0)\n",
      "Requirement already satisfied: gitdb<5,>=4.0.1 in e:\\anaconda\\envs\\tf210_env\\lib\\site-packages (from gitpython>=3.1.30->-r requirements.txt (line 5)) (4.0.12)\n",
      "Requirement already satisfied: cycler>=0.10 in e:\\anaconda\\envs\\tf210_env\\lib\\site-packages (from matplotlib>=3.3->-r requirements.txt (line 6)) (0.12.1)\n",
      "Requirement already satisfied: fonttools>=4.22.0 in e:\\anaconda\\envs\\tf210_env\\lib\\site-packages (from matplotlib>=3.3->-r requirements.txt (line 6)) (4.56.0)\n",
      "Requirement already satisfied: kiwisolver>=1.0.1 in e:\\anaconda\\envs\\tf210_env\\lib\\site-packages (from matplotlib>=3.3->-r requirements.txt (line 6)) (1.4.8)\n",
      "Requirement already satisfied: packaging>=20.0 in e:\\anaconda\\envs\\tf210_env\\lib\\site-packages (from matplotlib>=3.3->-r requirements.txt (line 6)) (24.2)\n",
      "Requirement already satisfied: pyparsing>=2.2.1 in e:\\anaconda\\envs\\tf210_env\\lib\\site-packages (from matplotlib>=3.3->-r requirements.txt (line 6)) (3.2.1)\n",
      "Requirement already satisfied: python-dateutil>=2.7 in e:\\anaconda\\envs\\tf210_env\\lib\\site-packages (from matplotlib>=3.3->-r requirements.txt (line 6)) (2.9.0.post0)\n",
      "Requirement already satisfied: charset-normalizer<4,>=2 in e:\\anaconda\\envs\\tf210_env\\lib\\site-packages (from requests>=2.32.2->-r requirements.txt (line 12)) (3.4.1)\n",
      "Requirement already satisfied: idna<4,>=2.5 in e:\\anaconda\\envs\\tf210_env\\lib\\site-packages (from requests>=2.32.2->-r requirements.txt (line 12)) (3.10)\n",
      "Requirement already satisfied: urllib3<3,>=1.21.1 in e:\\anaconda\\envs\\tf210_env\\lib\\site-packages (from requests>=2.32.2->-r requirements.txt (line 12)) (2.3.0)\n",
      "Requirement already satisfied: certifi>=2017.4.17 in e:\\anaconda\\envs\\tf210_env\\lib\\site-packages (from requests>=2.32.2->-r requirements.txt (line 12)) (2025.1.31)\n",
      "Requirement already satisfied: filelock in e:\\anaconda\\envs\\tf210_env\\lib\\site-packages (from torch>=1.8.0->-r requirements.txt (line 15)) (3.18.0)\n",
      "Requirement already satisfied: typing-extensions>=4.10.0 in e:\\anaconda\\envs\\tf210_env\\lib\\site-packages (from torch>=1.8.0->-r requirements.txt (line 15)) (4.12.2)\n",
      "Requirement already satisfied: networkx in e:\\anaconda\\envs\\tf210_env\\lib\\site-packages (from torch>=1.8.0->-r requirements.txt (line 15)) (3.4.2)\n",
      "Requirement already satisfied: jinja2 in e:\\anaconda\\envs\\tf210_env\\lib\\site-packages (from torch>=1.8.0->-r requirements.txt (line 15)) (3.1.5)\n",
      "Requirement already satisfied: fsspec in e:\\anaconda\\envs\\tf210_env\\lib\\site-packages (from torch>=1.8.0->-r requirements.txt (line 15)) (2025.3.2)\n",
      "Requirement already satisfied: sympy==1.13.1 in e:\\anaconda\\envs\\tf210_env\\lib\\site-packages (from torch>=1.8.0->-r requirements.txt (line 15)) (1.13.1)\n",
      "Requirement already satisfied: mpmath<1.4,>=1.1.0 in e:\\anaconda\\envs\\tf210_env\\lib\\site-packages (from sympy==1.13.1->torch>=1.8.0->-r requirements.txt (line 15)) (1.3.0)\n",
      "Requirement already satisfied: colorama in e:\\anaconda\\envs\\tf210_env\\lib\\site-packages (from tqdm>=4.66.3->-r requirements.txt (line 17)) (0.4.6)\n",
      "Requirement already satisfied: py-cpuinfo in e:\\anaconda\\envs\\tf210_env\\lib\\site-packages (from ultralytics>=8.2.34->-r requirements.txt (line 18)) (9.0.0)\n",
      "Requirement already satisfied: ultralytics-thop>=2.0.0 in e:\\anaconda\\envs\\tf210_env\\lib\\site-packages (from ultralytics>=8.2.34->-r requirements.txt (line 18)) (2.0.14)\n",
      "Requirement already satisfied: pytz>=2020.1 in e:\\anaconda\\envs\\tf210_env\\lib\\site-packages (from pandas>=1.1.4->-r requirements.txt (line 27)) (2025.1)\n",
      "Requirement already satisfied: tzdata>=2022.7 in e:\\anaconda\\envs\\tf210_env\\lib\\site-packages (from pandas>=1.1.4->-r requirements.txt (line 27)) (2025.1)\n",
      "Requirement already satisfied: smmap<6,>=3.0.1 in e:\\anaconda\\envs\\tf210_env\\lib\\site-packages (from gitdb<5,>=4.0.1->gitpython>=3.1.30->-r requirements.txt (line 5)) (5.0.2)\n",
      "Requirement already satisfied: six>=1.5 in e:\\anaconda\\envs\\tf210_env\\lib\\site-packages (from python-dateutil>=2.7->matplotlib>=3.3->-r requirements.txt (line 6)) (1.17.0)\n",
      "Requirement already satisfied: MarkupSafe>=2.0 in e:\\anaconda\\envs\\tf210_env\\lib\\site-packages (from jinja2->torch>=1.8.0->-r requirements.txt (line 15)) (3.0.2)\n"
     ]
    }
   ],
   "source": [
    "!pip install -r requirements.txt\n",
    "\n"
   ]
  },
  {
   "cell_type": "code",
   "execution_count": 4,
   "id": "ca92a667-6dd9-4bb1-a471-4fa8356ec092",
   "metadata": {},
   "outputs": [
    {
     "name": "stdout",
     "output_type": "stream",
     "text": [
      "Looking in indexes: https://download.pytorch.org/whl/cpu\n",
      "Requirement already satisfied: torch in e:\\anaconda\\envs\\tf210_env\\lib\\site-packages (2.6.0)\n",
      "Requirement already satisfied: torchvision in e:\\anaconda\\envs\\tf210_env\\lib\\site-packages (0.21.0)\n",
      "Requirement already satisfied: torchaudio in e:\\anaconda\\envs\\tf210_env\\lib\\site-packages (2.6.0)\n",
      "Requirement already satisfied: filelock in e:\\anaconda\\envs\\tf210_env\\lib\\site-packages (from torch) (3.18.0)\n",
      "Requirement already satisfied: typing-extensions>=4.10.0 in e:\\anaconda\\envs\\tf210_env\\lib\\site-packages (from torch) (4.12.2)\n",
      "Requirement already satisfied: networkx in e:\\anaconda\\envs\\tf210_env\\lib\\site-packages (from torch) (3.4.2)\n",
      "Requirement already satisfied: jinja2 in e:\\anaconda\\envs\\tf210_env\\lib\\site-packages (from torch) (3.1.5)\n",
      "Requirement already satisfied: fsspec in e:\\anaconda\\envs\\tf210_env\\lib\\site-packages (from torch) (2025.3.2)\n",
      "Requirement already satisfied: sympy==1.13.1 in e:\\anaconda\\envs\\tf210_env\\lib\\site-packages (from torch) (1.13.1)\n",
      "Requirement already satisfied: mpmath<1.4,>=1.1.0 in e:\\anaconda\\envs\\tf210_env\\lib\\site-packages (from sympy==1.13.1->torch) (1.3.0)\n",
      "Requirement already satisfied: numpy in e:\\anaconda\\envs\\tf210_env\\lib\\site-packages (from torchvision) (1.26.4)\n",
      "Requirement already satisfied: pillow!=8.3.*,>=5.3.0 in e:\\anaconda\\envs\\tf210_env\\lib\\site-packages (from torchvision) (11.1.0)\n",
      "Requirement already satisfied: MarkupSafe>=2.0 in e:\\anaconda\\envs\\tf210_env\\lib\\site-packages (from jinja2->torch) (3.0.2)\n"
     ]
    }
   ],
   "source": [
    "!pip install torch torchvision torchaudio --index-url https://download.pytorch.org/whl/cpu\n"
   ]
  },
  {
   "cell_type": "code",
   "execution_count": 5,
   "id": "b086d152-293e-40c6-847d-23ee8dc729a7",
   "metadata": {},
   "outputs": [],
   "source": [
    "!python train.py --img 640 --batch 4 --epochs 10 --data data_new/data.yaml --weights yolov5s.pt --name my_custom_model\n"
   ]
  },
  {
   "cell_type": "code",
   "execution_count": null,
   "id": "535e0ef0-2037-49d4-be5c-bfb6e8c8a464",
   "metadata": {},
   "outputs": [],
   "source": []
  }
 ],
 "metadata": {
  "kernelspec": {
   "display_name": "Python (tf210_env)",
   "language": "python",
   "name": "tf210_env"
  },
  "language_info": {
   "codemirror_mode": {
    "name": "ipython",
    "version": 3
   },
   "file_extension": ".py",
   "mimetype": "text/x-python",
   "name": "python",
   "nbconvert_exporter": "python",
   "pygments_lexer": "ipython3",
   "version": "3.10.16"
  }
 },
 "nbformat": 4,
 "nbformat_minor": 5
}
