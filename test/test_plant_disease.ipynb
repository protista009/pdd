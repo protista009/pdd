{
 "cells": [
  {
   "cell_type": "code",
   "execution_count": 1,
   "id": "9f31c800-1fea-4679-bcc1-4c917ad83f96",
   "metadata": {},
   "outputs": [],
   "source": [
    "import numpy as np\n",
    "import tensorflow as tf\n",
    "from tensorflow.keras.preprocessing.image import ImageDataGenerator\n",
    "import cv2\n",
    "import matplotlib.pyplot as plt"
   ]
  },
  {
   "cell_type": "code",
   "execution_count": 2,
   "id": "4bb64c86-9670-425b-bc39-2e574f25dccb",
   "metadata": {},
   "outputs": [],
   "source": [
    "model= tf.keras.models.load_model('trained_model.keras')"
   ]
  },
  {
   "cell_type": "code",
   "execution_count": 3,
   "id": "4211e4bd-5949-45ab-a067-5f5206869a52",
   "metadata": {},
   "outputs": [
    {
     "data": {
      "text/plain": [
       "<bound method Model.summary of <Sequential name=sequential, built=True>>"
      ]
     },
     "execution_count": 3,
     "metadata": {},
     "output_type": "execute_result"
    }
   ],
   "source": [
    "model.summary"
   ]
  },
  {
   "cell_type": "raw",
   "id": "eb117cb8-b8e0-4285-9647-13f3e34c5d87",
   "metadata": {},
   "source": [
    "Visualizing single image pf test set\n"
   ]
  },
  {
   "cell_type": "code",
   "execution_count": 7,
   "id": "fa8be82f-dc4d-4110-88c4-2068c4f8c60e",
   "metadata": {
    "scrolled": true
   },
   "outputs": [
    {
     "name": "stdout",
     "output_type": "stream",
     "text": [
      "❌ Error: File not found at test2/leaf.png\n"
     ]
    }
   ],
   "source": [
    "\n",
    "import os\n",
    "\n",
    "image_path = 'test2/leaf.png'\n",
    "\n",
    "# Check if file exists\n",
    "if not os.path.exists(image_path):\n",
    "    print(f\"❌ Error: File not found at {image_path}\")\n",
    "else:\n",
    "    # Read image\n",
    "    img = cv2.imread(image_path)\n",
    "\n",
    "    # Check if image was successfully loaded\n",
    "    if img is None:\n",
    "        print(f\"❌ Error: Could not read image at {image_path}\")\n",
    "    else:\n",
    "        # Convert BGR to RGB\n",
    "        img = cv2.cvtColor(img, cv2.COLOR_BGR2RGB)\n",
    "\n",
    "        # Display the image\n",
    "        plt.figure()\n",
    "        plt.imshow(img)\n",
    "        plt.title(\"Leaf\")  # Fixed undefined variable issue\n",
    "        plt.xticks([])  # Remove x-axis ticks\n",
    "        plt.yticks([])  # Remove y-axis ticks\n",
    "        plt.show()\n"
   ]
  },
  {
   "cell_type": "markdown",
   "id": "4008c80f-41fc-4c89-9736-0966dcf775c5",
   "metadata": {},
   "source": [
    "Testing model\n"
   ]
  },
  {
   "cell_type": "code",
   "execution_count": 6,
   "id": "78f31327-16ba-403e-aaee-0cf3840d2b44",
   "metadata": {},
   "outputs": [
    {
     "ename": "FileNotFoundError",
     "evalue": "[Errno 2] No such file or directory: 'test/testimg/leaf.png'",
     "output_type": "error",
     "traceback": [
      "\u001b[1;31m---------------------------------------------------------------------------\u001b[0m",
      "\u001b[1;31mFileNotFoundError\u001b[0m                         Traceback (most recent call last)",
      "Cell \u001b[1;32mIn[6], line 1\u001b[0m\n\u001b[1;32m----> 1\u001b[0m image \u001b[38;5;241m=\u001b[39mtf\u001b[38;5;241m.\u001b[39mkeras\u001b[38;5;241m.\u001b[39mpreprocessing\u001b[38;5;241m.\u001b[39mimage\u001b[38;5;241m.\u001b[39mload_img(image_path,target_size\u001b[38;5;241m=\u001b[39m(\u001b[38;5;241m128\u001b[39m,\u001b[38;5;241m128\u001b[39m))\n\u001b[0;32m      2\u001b[0m input_arr\u001b[38;5;241m=\u001b[39mtf\u001b[38;5;241m.\u001b[39mkeras\u001b[38;5;241m.\u001b[39mpreprocessing\u001b[38;5;241m.\u001b[39mimage\u001b[38;5;241m.\u001b[39mimg_to_array(image)\n\u001b[0;32m      3\u001b[0m input_arr\u001b[38;5;241m=\u001b[39mnp\u001b[38;5;241m.\u001b[39marray([input_arr]) \u001b[38;5;66;03m#convert single image to batch\u001b[39;00m\n",
      "File \u001b[1;32mE:\\anaconda\\Lib\\site-packages\\keras\\src\\utils\\image_utils.py:235\u001b[0m, in \u001b[0;36mload_img\u001b[1;34m(path, color_mode, target_size, interpolation, keep_aspect_ratio)\u001b[0m\n\u001b[0;32m    233\u001b[0m     \u001b[38;5;28;01mif\u001b[39;00m \u001b[38;5;28misinstance\u001b[39m(path, pathlib\u001b[38;5;241m.\u001b[39mPath):\n\u001b[0;32m    234\u001b[0m         path \u001b[38;5;241m=\u001b[39m \u001b[38;5;28mstr\u001b[39m(path\u001b[38;5;241m.\u001b[39mresolve())\n\u001b[1;32m--> 235\u001b[0m     \u001b[38;5;28;01mwith\u001b[39;00m \u001b[38;5;28mopen\u001b[39m(path, \u001b[38;5;124m\"\u001b[39m\u001b[38;5;124mrb\u001b[39m\u001b[38;5;124m\"\u001b[39m) \u001b[38;5;28;01mas\u001b[39;00m f:\n\u001b[0;32m    236\u001b[0m         img \u001b[38;5;241m=\u001b[39m pil_image\u001b[38;5;241m.\u001b[39mopen(io\u001b[38;5;241m.\u001b[39mBytesIO(f\u001b[38;5;241m.\u001b[39mread()))\n\u001b[0;32m    237\u001b[0m \u001b[38;5;28;01melse\u001b[39;00m:\n",
      "\u001b[1;31mFileNotFoundError\u001b[0m: [Errno 2] No such file or directory: 'test/testimg/leaf.png'"
     ]
    }
   ],
   "source": [
    "image =tf.keras.preprocessing.image.load_img(image_path,target_size=(128,128))\n",
    "input_arr=tf.keras.preprocessing.image.img_to_array(image)\n",
    "input_arr=np.array([input_arr]) #convert single image to batch\n",
    "print(input_arr.shape)"
   ]
  },
  {
   "cell_type": "code",
   "execution_count": null,
   "id": "dfac5124-08a8-4ce2-b954-286330b5fdc3",
   "metadata": {},
   "outputs": [],
   "source": [
    "prediction=model.predict(input_arr)\n",
    "prediction,prediction.shape\n"
   ]
  },
  {
   "cell_type": "code",
   "execution_count": null,
   "id": "4bb5b0bb-c31c-4538-bd2d-d95a08131b41",
   "metadata": {},
   "outputs": [],
   "source": [
    "result_index=np.argmax(prediction)\n",
    "result_index"
   ]
  },
  {
   "cell_type": "code",
   "execution_count": null,
   "id": "a944a0ed-ba66-4e27-92d2-0feec10de04b",
   "metadata": {},
   "outputs": [],
   "source": [
    "class_name = ['healthy', 'unhealthy']"
   ]
  },
  {
   "cell_type": "code",
   "execution_count": null,
   "id": "90a09100-8ace-4998-a8cf-4b833185d9f8",
   "metadata": {},
   "outputs": [],
   "source": [
    "model_prediction= class_name(result_index)\n",
    "plt.imshow(img)\n",
    "plt.title(f\"Disease_name: - {model_prediction}\")\n",
    "plt.xticks([])  # Remove x-axis ticks\n",
    "plt.yticks([])  # Remove y-axis ticks\n",
    "plt.show()"
   ]
  },
  {
   "cell_type": "code",
   "execution_count": null,
   "id": "e38d4725-fede-4aef-a6fc-decf856daafd",
   "metadata": {},
   "outputs": [],
   "source": [
    "model_prediction"
   ]
  },
  {
   "cell_type": "code",
   "execution_count": null,
   "id": "2087b2a8-5986-465f-ae9a-9e69e97e959e",
   "metadata": {},
   "outputs": [],
   "source": []
  }
 ],
 "metadata": {
  "kernelspec": {
   "display_name": "Python (TensorFlow)",
   "language": "python",
   "name": "tensorflow"
  },
  "language_info": {
   "codemirror_mode": {
    "name": "ipython",
    "version": 3
   },
   "file_extension": ".py",
   "mimetype": "text/x-python",
   "name": "python",
   "nbconvert_exporter": "python",
   "pygments_lexer": "ipython3",
   "version": "3.12.3"
  }
 },
 "nbformat": 4,
 "nbformat_minor": 5
}
